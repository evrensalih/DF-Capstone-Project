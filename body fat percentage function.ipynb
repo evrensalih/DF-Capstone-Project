{
 "cells": [
  {
   "cell_type": "markdown",
   "source": [
    "## Body Fat Percentage Estimator (function only)\n",
    "To see the project in its entirety, look at \"Evren Salih Capstone in its entirety.ipynb\""
   ],
   "metadata": {
    "collapsed": false
   }
  },
  {
   "cell_type": "code",
   "execution_count": 2,
   "outputs": [],
   "source": [
    "# It's GUI time. I will create a function that asks the user for their name, weight, neck circumference, Abdomen circumference, Thigh circumference, and wrist circumference. Once all data has been inputted, the function will return a dataframe containing their name, their measurements, and their body fat percentage.\n",
    "# I'm taking it from the top so that anyone that wants to try this out doesn't have to do all the cleaning and feature engineering that I had to do. Will also put a link to the dataframe on GitHub so that it doesn't require downloading.\n",
    "def body_fat_percentage():\n",
    "    # Necessary modules.\n",
    "    import numpy as np\n",
    "    import pandas as pd\n",
    "\n",
    "    # Reading in our dataframe.\n",
    "    df = pd.read_csv('bodyfat.csv')\n",
    "\n",
    "    # Converting to metric system.\n",
    "    df['Weight'] = df['Weight']*0.45359237\n",
    "    df['Height'] = df['Height']*2.54\n",
    "\n",
    "    # Relabeling columns.\n",
    "    df = df.rename(columns={'BodyFat':'BodyFat(%)','Age':'Age(years)','Weight':'Weight(kg)','Density':'Density(Db)'})\n",
    "    for column in df.iloc[:,4:15]:\n",
    "        df = df.rename(columns={column:column+'(cm)'})\n",
    "\n",
    "    # Our function to clean outliers.\n",
    "    def clean_outliers(df):\n",
    "        df_clean = df.copy()\n",
    "        for column in df:\n",
    "            q1, q3 = np.percentile(df[column],[25,75])\n",
    "            IQR = q3 - q1\n",
    "            upper = q3 + 1.5*IQR\n",
    "            lower = q1 - 1.5*IQR\n",
    "            df_clean[column] = np.where((df[column] < lower) | (df[column] > upper), np.nan, df[column])\n",
    "            mean = df_clean[column].mean()\n",
    "            df_clean[column] = df_clean[column].fillna(mean)\n",
    "        return df_clean\n",
    "\n",
    "    # Applying cleaning function.\n",
    "    df = clean_outliers(df)\n",
    "\n",
    "    # Extracting our feature columns.\n",
    "    feature_cols = list(df.columns)\n",
    "    # Columns that we don't need. Rather than dropping these columns from the beginning, I chose to remove them at feature engineering stage so that if there is more training data available in the future, we can test how that will impact our model through feature engineering.\n",
    "    # These need to go regardless.\n",
    "    feature_cols.remove('BodyFat(%)')\n",
    "    feature_cols.remove('Density(Db)')\n",
    "    # These may change in the future.\n",
    "    feature_cols.remove('Height(cm)')\n",
    "    feature_cols.remove('Knee(cm)')\n",
    "    feature_cols.remove('Chest(cm)')\n",
    "    feature_cols.remove('Age(years)')\n",
    "    feature_cols.remove('Forearm(cm)')\n",
    "    feature_cols.remove('Ankle(cm)')\n",
    "    feature_cols.remove('Biceps(cm)')\n",
    "    feature_cols.remove('Hip(cm)')\n",
    "\n",
    "    # Import modules we need for train/test split.\n",
    "    import statsmodels.api as sm\n",
    "    from sklearn.model_selection import train_test_split\n",
    "\n",
    "    # X and y to be split\n",
    "    X = df[feature_cols]\n",
    "    X = sm.add_constant(X)\n",
    "    y = df['BodyFat(%)']\n",
    "\n",
    "    # Train/test split\n",
    "    X_train, X_test, y_train, y_test = train_test_split(X, y, test_size = 0.2, random_state = 42)\n",
    "\n",
    "    # Initialising and fitting.\n",
    "    lin_reg = sm.OLS(y_train, X_train)\n",
    "    results = lin_reg.fit()\n",
    "\n",
    "    # Our inputs.\n",
    "    name = input('What is your name?')\n",
    "    weight = float(input('What is your weight in kg?'))\n",
    "    neck = float(input('What is your neck circumference in cm?'))\n",
    "    abdomen = float(input('What is your abdomen circumference in cm?'))\n",
    "    thigh = float(input('What is your thigh circumference in cm?'))\n",
    "    wrist = float(input('What is your wrist circumference in cm?'))\n",
    "\n",
    "    # Making and formatting the dataframe we wish the function to return.\n",
    "    obs = pd.DataFrame()\n",
    "    obs['const'] = [1.0]\n",
    "    obs['Weight(kg)'] = [weight]\n",
    "    obs['Neck(cm)'] = [neck]\n",
    "    obs['Abdomen(cm)'] = [abdomen]\n",
    "    obs['Thigh(cm)'] = [thigh]\n",
    "    obs['Wrist(cm)'] = [wrist]\n",
    "    obs['BodyFat(%)'] = results.predict(obs)\n",
    "    obs['Name'] = [name]\n",
    "    obs.insert(0,'Name',obs.pop('Name'))\n",
    "    obs = obs.drop(columns='const')\n",
    "\n",
    "    # Finally returning the dataframe with our results\n",
    "    return obs"
   ],
   "metadata": {
    "collapsed": false
   }
  },
  {
   "cell_type": "code",
   "execution_count": 3,
   "outputs": [
    {
     "data": {
      "text/plain": "    Name  Weight(kg)  Neck(cm)  Abdomen(cm)  Thigh(cm)  Wrist(cm)  BodyFat(%)\n0  Evren        78.1      38.0         92.4       49.0       16.5   20.829362",
      "text/html": "<div>\n<style scoped>\n    .dataframe tbody tr th:only-of-type {\n        vertical-align: middle;\n    }\n\n    .dataframe tbody tr th {\n        vertical-align: top;\n    }\n\n    .dataframe thead th {\n        text-align: right;\n    }\n</style>\n<table border=\"1\" class=\"dataframe\">\n  <thead>\n    <tr style=\"text-align: right;\">\n      <th></th>\n      <th>Name</th>\n      <th>Weight(kg)</th>\n      <th>Neck(cm)</th>\n      <th>Abdomen(cm)</th>\n      <th>Thigh(cm)</th>\n      <th>Wrist(cm)</th>\n      <th>BodyFat(%)</th>\n    </tr>\n  </thead>\n  <tbody>\n    <tr>\n      <th>0</th>\n      <td>Evren</td>\n      <td>78.1</td>\n      <td>38.0</td>\n      <td>92.4</td>\n      <td>49.0</td>\n      <td>16.5</td>\n      <td>20.829362</td>\n    </tr>\n  </tbody>\n</table>\n</div>"
     },
     "execution_count": 3,
     "metadata": {},
     "output_type": "execute_result"
    }
   ],
   "source": [
    "body_fat_percentage()"
   ],
   "metadata": {
    "collapsed": false
   }
  },
  {
   "cell_type": "code",
   "execution_count": null,
   "outputs": [],
   "source": [],
   "metadata": {
    "collapsed": false
   }
  }
 ],
 "metadata": {
  "kernelspec": {
   "display_name": "Python 3",
   "language": "python",
   "name": "python3"
  },
  "language_info": {
   "codemirror_mode": {
    "name": "ipython",
    "version": 2
   },
   "file_extension": ".py",
   "mimetype": "text/x-python",
   "name": "python",
   "nbconvert_exporter": "python",
   "pygments_lexer": "ipython2",
   "version": "2.7.6"
  }
 },
 "nbformat": 4,
 "nbformat_minor": 0
}
